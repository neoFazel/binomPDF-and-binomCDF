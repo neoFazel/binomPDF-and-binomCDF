{
 "cells": [
  {
   "attachments": {},
   "cell_type": "markdown",
   "id": "4e039111",
   "metadata": {},
   "source": [
    "# Binomial Probability Distribution Function (binomPDF)\n",
    "<p>Binomial Probability Distribution Function (PDF), also known as the binomial probability mass function (PMF), calculates the probability of obtaining exactly \n",
    "𝑘 successes in \n",
    "𝑛 independent Bernoulli trials, where each trial has a probability \n",
    "𝑝 of success.</p>\n",
    "<img src=\"https://www.onlinemathlearning.com/image-files/binomial-distribution-formula.png\" alt=\"Girl in a jacket\" width=\"500\" height=\"600\">"
   ]
  },
  {
   "cell_type": "code",
   "execution_count": 69,
   "id": "f76c2679",
   "metadata": {},
   "outputs": [],
   "source": [
    "# required libaries\n",
    "import math\n",
    "\n",
    "# constructing binomPDF(bimomial probability distribution function)\n",
    "def binomPDF(n, x, p):\n",
    "    q = 1 - p\n",
    "    binom_coeff = math.factorial(n) / (math.factorial(x) * math.factorial(n - x))\n",
    "    pdf = (math.factorial(n) / (math.factorial(n - x) * math.factorial(x))) * (pow(p, x)) * (pow(q, n - x))\n",
    "    roundedAndConverted_pdf = round(pdf, 2) * 100\n",
    "    return roundedAndConverted_pdf"
   ]
  },
  {
   "cell_type": "markdown",
   "id": "3279d627",
   "metadata": {},
   "source": [
    "# binomial cumulative distributino function\n",
    "<p>Binomial Cumulative Distribution Function (CDF) calculates the probability of obtaining at most 𝑘 successes in 𝑛 independent Bernoulli trials. It essentially sums up the probabilities of obtaining 0, 1, 2, ..., and 𝑘 successes.</p>"
   ]
  },
  {
   "cell_type": "code",
   "execution_count": 70,
   "id": "52b9bcc5",
   "metadata": {},
   "outputs": [],
   "source": [
    "# required libraries\n",
    "import math\n",
    "\n",
    "# constructing binomCDF(bimomial cumulative distribution function)\n",
    "def binomCDF(n, x, p):\n",
    "    cdf = 0.0\n",
    "    for k in range(0, x + 1):\n",
    "        binom_coeff = math.factorial(n) / (math.factorial(k) * math.factorial(n - k))\n",
    "        binom_prob = binom_coeff * pow(p, k) * pow((1 - p), (n - k))\n",
    "        cdf += binom_prob\n",
    "    \n",
    "    roundedAndConverted_cdf = round(cdf, 2) * 100 \n",
    "    return roundedAndConverted_cdf\n",
    "\n",
    "# note: in binomCDF we only have a extra sigma for our calculation   "
   ]
  },
  {
   "cell_type": "markdown",
   "id": "a8717da6",
   "metadata": {},
   "source": [
    "# related example"
   ]
  },
  {
   "cell_type": "markdown",
   "id": "a6bb8169",
   "metadata": {},
   "source": [
    "## Scenario\n",
    "A factory produces light bulbs, and the probability of producing a defective bulb is 0.05. The factory tests 100 bulbs every day to monitor the quality control.\n",
    "\n",
    "### Question: What is the probability of finding exactly 3 defective bulbs in a sample of 100?"
   ]
  },
  {
   "cell_type": "code",
   "execution_count": 72,
   "id": "bc8c9bc1",
   "metadata": {},
   "outputs": [
    {
     "name": "stdout",
     "output_type": "stream",
     "text": [
      "14.000000000000002\n"
     ]
    }
   ],
   "source": [
    "n = 100\n",
    "x = 3\n",
    "p = 0.05\n",
    "probability = binomPDF(n, x, p)\n",
    "print(probability)"
   ]
  },
  {
   "cell_type": "markdown",
   "id": "7c32154a",
   "metadata": {},
   "source": [
    "### binomCDF application question: What is the probability of finding at most 3 defective bulbs in a sample of 100?"
   ]
  },
  {
   "cell_type": "code",
   "execution_count": 74,
   "id": "722bae58",
   "metadata": {},
   "outputs": [
    {
     "name": "stdout",
     "output_type": "stream",
     "text": [
      "26.0\n"
     ]
    }
   ],
   "source": [
    "n = 100\n",
    "x = 3\n",
    "p = 0.05\n",
    "cumulative_probability = binomCDF(n, x, p)\n",
    "print(cumulative_probability )"
   ]
  },
  {
   "cell_type": "code",
   "execution_count": null,
   "id": "9bd3757a",
   "metadata": {},
   "outputs": [],
   "source": []
  }
 ],
 "metadata": {
  "kernelspec": {
   "display_name": "Python 3 (ipykernel)",
   "language": "python",
   "name": "python3"
  },
  "language_info": {
   "codemirror_mode": {
    "name": "ipython",
    "version": 3
   },
   "file_extension": ".py",
   "mimetype": "text/x-python",
   "name": "python",
   "nbconvert_exporter": "python",
   "pygments_lexer": "ipython3",
   "version": "3.9.13"
  }
 },
 "nbformat": 4,
 "nbformat_minor": 5
}
